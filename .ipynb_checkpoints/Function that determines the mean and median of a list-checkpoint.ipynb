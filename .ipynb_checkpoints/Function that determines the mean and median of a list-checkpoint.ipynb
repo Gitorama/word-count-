{
 "cells": [
  {
   "cell_type": "code",
   "execution_count": 106,
   "metadata": {},
   "outputs": [],
   "source": [
    "#Function determines the median of a list \n",
    "def median(list_1): #Defines function\n",
    "#     mult_ten = [x*10 for x in range(1, 11)]\n",
    "    size = len(list_1) #Determines number of numbers in list\n",
    "    mean = sum(list_1)/len(list_1) #Computes average of numbers in list\n",
    "    if(size % 2 == 1): #If odd number of numbers in list, the middle number is determined to be the median of list\n",
    "        median = list_1[int(size/2)] #Sets median equal to number in the middle of the list\n",
    "    elif (size % 2 == 0): #If even number of numbers in list, the middle number is the average of the middle two numbers\n",
    "        median = (list_1[int(size/2)-1] + list_1[int(size/2)])/2 #Sets median equal to the average of the middle two numbers in list\n",
    "    \n",
    "    if mean == median:\n",
    "       print(\"The mean and median are the same\") #prints text if the mean and median of the list are equal\n",
    "        \n",
    "    return list_1, \"The mean of the list is:\", mean, \"The median of the list is:\", median\n",
    "\n",
    "   "
   ]
  },
  {
   "cell_type": "code",
   "execution_count": 107,
   "metadata": {},
   "outputs": [
    {
     "data": {
      "text/plain": [
       "([1, 4, 9, 16],\n",
       " 'The mean of the list is:',\n",
       " 7.5,\n",
       " 'The median of the list is:',\n",
       " 6.5)"
      ]
     },
     "execution_count": 107,
     "metadata": {},
     "output_type": "execute_result"
    }
   ],
   "source": [
    "median(powers_two)"
   ]
  },
  {
   "cell_type": "code",
   "execution_count": null,
   "metadata": {},
   "outputs": [],
   "source": []
  }
 ],
 "metadata": {
  "kernelspec": {
   "display_name": "Python 3",
   "language": "python",
   "name": "python3"
  },
  "language_info": {
   "codemirror_mode": {
    "name": "ipython",
    "version": 3
   },
   "file_extension": ".py",
   "mimetype": "text/x-python",
   "name": "python",
   "nbconvert_exporter": "python",
   "pygments_lexer": "ipython3",
   "version": "3.6.5"
  }
 },
 "nbformat": 4,
 "nbformat_minor": 2
}
